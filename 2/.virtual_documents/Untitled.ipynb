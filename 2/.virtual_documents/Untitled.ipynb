a = 10 /2


a


type(a)


b = 3 // 2


b


type(b)


cubes = [x ** 3 for range(5) in x]


cubes = [x in x ** 3 for range(5)]


cubes = [x for x ** 3 in range(5)] 


cubes = [x ** 3 for range(5) in x]


cubes = [x ** 3 for x in range(5)] 


cubes



matrix = [[2, 3, 5], [4, 9, 25], [8, 27, 125]] 
power = [row[1] for row in matrix]
print(power)


list = [-10, 1, 15, 20, 30]
list.insert(2,5)
list.append(50)
list.sort(reverse = True)
list.pop(-1)
print(list)


Zen = 'ExplicitIsBetterThanImplicit'
print(Zen[1:20:3])



(1, 2, 3, 4) > (1, 2, 5) 


'PHP' < 'Perl' < 'Python'


(1, 2) > (1, 2, -1)


(10, 20) != (10.0, 20.0) 


(1, 2, ('bb', 'a')) > (1, 2, ('bcd', 'b')) 


import sys


dir(sys)


import math
print('{1:.3f}, {0:.5f}'.format(math.pi, math.e))


try:
    int_a = int(input('整数a:'))
    int_b = int(input('整数b:'))
    print(int_a ** 2)
    print((int_a ** 2) / int_b)
except(ValueError) as v:
    print(type(v))
    print('C')
except(ZeroDivisionError) :
    print('D')
except:
    print('E')
else:
    print('F')
finally:
    print('G')


with open("file.txt") as f:
    for line in f:
        print(line, end="")



f.close()


f


class OurException(Exception):
    pass
def raise_her_exception(a):
    print(a, 'is a')
    raise OurException
    print('easygoing person.')
def func(key: int):
    try:
        if key == 0:
            raise_her_exception('Saya')
    except OurException as e:
        print('intelligent')
        raise Exception

key = 0
try:
    func(key)
except Exception as f:
    print('speedster.')



class kusanagi():
    def s(self):
        print("I'm Saya.")
        self.m()
    def m(self):
        print("I'm Magatama.")

class onimaru(kusanagi):
    def d(self):
        print("I'm David.")

k = kusanagi()
o = onimaru()
k.s()
o.d()


import re
prog = re.compile('(K|S)us(a|u)n(a|o)(o|m)?g?i?(saya)?', re.IGNORECASE)


ret = prog.search('KUSANAGI')


print(ret[0])


ret = prog.search('Kusaneiro')


import statistics
data = [1,10,15,20,25,30,35]
rslt1 = statistics.mean(data)
rslt2 = statistics.median(data)
rslt3 = statistics.variance(data)
print(rslt1, rslt2, rslt3)



from datetime import date


now = date.today()
print(now)



