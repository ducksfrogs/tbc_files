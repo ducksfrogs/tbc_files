{
 "cells": [
  {
   "cell_type": "code",
   "execution_count": 1,
   "id": "99230162-4b67-451b-acd2-526ed9529913",
   "metadata": {},
   "outputs": [],
   "source": [
    "a = 10 /2"
   ]
  },
  {
   "cell_type": "code",
   "execution_count": 2,
   "id": "b4e73763-5498-4f8a-b918-e08a511199e2",
   "metadata": {},
   "outputs": [
    {
     "data": {
      "text/plain": [
       "5.0"
      ]
     },
     "execution_count": 2,
     "metadata": {},
     "output_type": "execute_result"
    }
   ],
   "source": [
    "a"
   ]
  },
  {
   "cell_type": "code",
   "execution_count": 3,
   "id": "a077d305-5b47-4d0e-9991-8a1d8fb49643",
   "metadata": {},
   "outputs": [
    {
     "data": {
      "text/plain": [
       "float"
      ]
     },
     "execution_count": 3,
     "metadata": {},
     "output_type": "execute_result"
    }
   ],
   "source": [
    "type(a)"
   ]
  },
  {
   "cell_type": "code",
   "execution_count": 4,
   "id": "a5e792a6-581c-423b-8102-741e7bab8a17",
   "metadata": {},
   "outputs": [],
   "source": [
    "b = 3 // 2"
   ]
  },
  {
   "cell_type": "code",
   "execution_count": 5,
   "id": "81dd64e8-1c31-4e78-ad35-af3606176834",
   "metadata": {},
   "outputs": [
    {
     "data": {
      "text/plain": [
       "1"
      ]
     },
     "execution_count": 5,
     "metadata": {},
     "output_type": "execute_result"
    }
   ],
   "source": [
    "b"
   ]
  },
  {
   "cell_type": "code",
   "execution_count": 6,
   "id": "ea0e1aff-1dd2-499d-880e-535c5fea5ff5",
   "metadata": {},
   "outputs": [
    {
     "data": {
      "text/plain": [
       "int"
      ]
     },
     "execution_count": 6,
     "metadata": {},
     "output_type": "execute_result"
    }
   ],
   "source": [
    "type(b)"
   ]
  },
  {
   "cell_type": "code",
   "execution_count": 11,
   "id": "50a49781-c49b-43a0-9445-006e9683a5c3",
   "metadata": {},
   "outputs": [
    {
     "ename": "SyntaxError",
     "evalue": "cannot assign to function call (2268588497.py, line 1)",
     "output_type": "error",
     "traceback": [
      "\u001b[0;36m  Cell \u001b[0;32mIn[11], line 1\u001b[0;36m\u001b[0m\n\u001b[0;31m    cubes = [x ** 3 for range(5) in x]\u001b[0m\n\u001b[0m                        ^\u001b[0m\n\u001b[0;31mSyntaxError\u001b[0m\u001b[0;31m:\u001b[0m cannot assign to function call\n"
     ]
    }
   ],
   "source": [
    "cubes = [x ** 3 for range(5) in x]"
   ]
  },
  {
   "cell_type": "code",
   "execution_count": 12,
   "id": "bc01aae7-f029-49a7-b33b-e55e382f961b",
   "metadata": {},
   "outputs": [
    {
     "ename": "SyntaxError",
     "evalue": "cannot assign to function call (2117276703.py, line 1)",
     "output_type": "error",
     "traceback": [
      "\u001b[0;36m  Cell \u001b[0;32mIn[12], line 1\u001b[0;36m\u001b[0m\n\u001b[0;31m    cubes = [x in x ** 3 for range(5)]\u001b[0m\n\u001b[0m                             ^\u001b[0m\n\u001b[0;31mSyntaxError\u001b[0m\u001b[0;31m:\u001b[0m cannot assign to function call\n"
     ]
    }
   ],
   "source": [
    "cubes = [x in x ** 3 for range(5)]"
   ]
  },
  {
   "cell_type": "code",
   "execution_count": 9,
   "id": "f38477c6-f76f-4d93-9de7-fc7460bae3f2",
   "metadata": {},
   "outputs": [
    {
     "ename": "SyntaxError",
     "evalue": "cannot assign to expression (1887975842.py, line 1)",
     "output_type": "error",
     "traceback": [
      "\u001b[0;36m  Cell \u001b[0;32mIn[9], line 1\u001b[0;36m\u001b[0m\n\u001b[0;31m    cubes = [x for x ** 3 in range(5)]\u001b[0m\n\u001b[0m                   ^\u001b[0m\n\u001b[0;31mSyntaxError\u001b[0m\u001b[0;31m:\u001b[0m cannot assign to expression\n"
     ]
    }
   ],
   "source": [
    "cubes = [x for x ** 3 in range(5)] "
   ]
  },
  {
   "cell_type": "code",
   "execution_count": 10,
   "id": "9b420325-e51c-4a7b-88f2-828f3add3687",
   "metadata": {},
   "outputs": [
    {
     "ename": "SyntaxError",
     "evalue": "cannot assign to function call (2268588497.py, line 1)",
     "output_type": "error",
     "traceback": [
      "\u001b[0;36m  Cell \u001b[0;32mIn[10], line 1\u001b[0;36m\u001b[0m\n\u001b[0;31m    cubes = [x ** 3 for range(5) in x]\u001b[0m\n\u001b[0m                        ^\u001b[0m\n\u001b[0;31mSyntaxError\u001b[0m\u001b[0;31m:\u001b[0m cannot assign to function call\n"
     ]
    }
   ],
   "source": [
    "cubes = [x ** 3 for range(5) in x]"
   ]
  },
  {
   "cell_type": "code",
   "execution_count": 13,
   "id": "86b49b41-b8b4-40c4-8ae5-b87b9cfeb07d",
   "metadata": {},
   "outputs": [],
   "source": [
    "cubes = [x ** 3 for x in range(5)] "
   ]
  },
  {
   "cell_type": "code",
   "execution_count": 14,
   "id": "c146e45d-3748-4bab-96cc-c74e5bcfc03a",
   "metadata": {},
   "outputs": [
    {
     "data": {
      "text/plain": [
       "[0, 1, 8, 27, 64]"
      ]
     },
     "execution_count": 14,
     "metadata": {},
     "output_type": "execute_result"
    }
   ],
   "source": [
    "cubes"
   ]
  },
  {
   "cell_type": "code",
   "execution_count": 2,
   "id": "647a071a-228e-49fd-a0e2-e4216557b72a",
   "metadata": {},
   "outputs": [
    {
     "name": "stdout",
     "output_type": "stream",
     "text": [
      "[3, 9, 27]\n"
     ]
    }
   ],
   "source": [
    "\n",
    "matrix = [[2, 3, 5], [4, 9, 25], [8, 27, 125]] \n",
    "power = [row[1] for row in matrix]\n",
    "print(power)"
   ]
  },
  {
   "cell_type": "code",
   "execution_count": 3,
   "id": "382ce659-5bb6-4954-8d39-dc8776c71a45",
   "metadata": {},
   "outputs": [
    {
     "name": "stdout",
     "output_type": "stream",
     "text": [
      "[50, 30, 20, 15, 5, 1]\n"
     ]
    }
   ],
   "source": [
    "list = [-10, 1, 15, 20, 30]\n",
    "list.insert(2,5)\n",
    "list.append(50)\n",
    "list.sort(reverse = True)\n",
    "list.pop(-1)\n",
    "print(list)"
   ]
  },
  {
   "cell_type": "code",
   "execution_count": 4,
   "id": "02a494d4-3f37-4a9e-956d-a890a0a85b86",
   "metadata": {},
   "outputs": [
    {
     "name": "stdout",
     "output_type": "stream",
     "text": [
      "xitBtTn\n"
     ]
    }
   ],
   "source": [
    "Zen = 'ExplicitIsBetterThanImplicit'\n",
    "print(Zen[1:20:3])\n"
   ]
  },
  {
   "cell_type": "code",
   "execution_count": 5,
   "id": "1f0596e6-fc1d-4a32-985a-56291a3c25ef",
   "metadata": {},
   "outputs": [
    {
     "data": {
      "text/plain": [
       "False"
      ]
     },
     "execution_count": 5,
     "metadata": {},
     "output_type": "execute_result"
    }
   ],
   "source": [
    "(1, 2, 3, 4) > (1, 2, 5) "
   ]
  },
  {
   "cell_type": "code",
   "execution_count": 7,
   "id": "3d635889-9b5d-4ea2-8448-bb9e7ad68bc2",
   "metadata": {},
   "outputs": [
    {
     "data": {
      "text/plain": [
       "True"
      ]
     },
     "execution_count": 7,
     "metadata": {},
     "output_type": "execute_result"
    }
   ],
   "source": [
    "'PHP' < 'Perl' < 'Python'"
   ]
  },
  {
   "cell_type": "code",
   "execution_count": 8,
   "id": "52829ed4-6c28-48f8-8212-29febc639221",
   "metadata": {},
   "outputs": [
    {
     "data": {
      "text/plain": [
       "False"
      ]
     },
     "execution_count": 8,
     "metadata": {},
     "output_type": "execute_result"
    }
   ],
   "source": [
    "(1, 2) > (1, 2, -1)"
   ]
  },
  {
   "cell_type": "code",
   "execution_count": 9,
   "id": "8768a2b5-c3d0-4627-98ef-2d5c3ab18554",
   "metadata": {},
   "outputs": [
    {
     "data": {
      "text/plain": [
       "False"
      ]
     },
     "execution_count": 9,
     "metadata": {},
     "output_type": "execute_result"
    }
   ],
   "source": [
    "(10, 20) != (10.0, 20.0) "
   ]
  },
  {
   "cell_type": "code",
   "execution_count": 10,
   "id": "b2b12b06-8f60-4b84-920c-0fa196985c82",
   "metadata": {},
   "outputs": [
    {
     "data": {
      "text/plain": [
       "False"
      ]
     },
     "execution_count": 10,
     "metadata": {},
     "output_type": "execute_result"
    }
   ],
   "source": [
    "(1, 2, ('bb', 'a')) > (1, 2, ('bcd', 'b')) "
   ]
  },
  {
   "cell_type": "code",
   "execution_count": 11,
   "id": "d353a684-8155-465a-b214-c497672667b5",
   "metadata": {},
   "outputs": [],
   "source": [
    "import sys"
   ]
  },
  {
   "cell_type": "code",
   "execution_count": 13,
   "id": "4c399cfe-f620-4825-a4fa-5261a0be85b5",
   "metadata": {},
   "outputs": [
    {
     "data": {
      "text/plain": [
       "['__breakpointhook__',\n",
       " '__displayhook__',\n",
       " '__doc__',\n",
       " '__excepthook__',\n",
       " '__interactivehook__',\n",
       " '__loader__',\n",
       " '__name__',\n",
       " '__package__',\n",
       " '__spec__',\n",
       " '__stderr__',\n",
       " '__stdin__',\n",
       " '__stdout__',\n",
       " '__unraisablehook__',\n",
       " '_base_executable',\n",
       " '_clear_type_cache',\n",
       " '_current_exceptions',\n",
       " '_current_frames',\n",
       " '_debugmallocstats',\n",
       " '_framework',\n",
       " '_getframe',\n",
       " '_getframemodulename',\n",
       " '_git',\n",
       " '_home',\n",
       " '_setprofileallthreads',\n",
       " '_settraceallthreads',\n",
       " '_stdlib_dir',\n",
       " '_xoptions',\n",
       " 'abiflags',\n",
       " 'activate_stack_trampoline',\n",
       " 'addaudithook',\n",
       " 'api_version',\n",
       " 'argv',\n",
       " 'audit',\n",
       " 'base_exec_prefix',\n",
       " 'base_prefix',\n",
       " 'breakpointhook',\n",
       " 'builtin_module_names',\n",
       " 'byteorder',\n",
       " 'call_tracing',\n",
       " 'copyright',\n",
       " 'deactivate_stack_trampoline',\n",
       " 'displayhook',\n",
       " 'dont_write_bytecode',\n",
       " 'exc_info',\n",
       " 'excepthook',\n",
       " 'exception',\n",
       " 'exec_prefix',\n",
       " 'executable',\n",
       " 'exit',\n",
       " 'flags',\n",
       " 'float_info',\n",
       " 'float_repr_style',\n",
       " 'get_asyncgen_hooks',\n",
       " 'get_coroutine_origin_tracking_depth',\n",
       " 'get_int_max_str_digits',\n",
       " 'getallocatedblocks',\n",
       " 'getdefaultencoding',\n",
       " 'getdlopenflags',\n",
       " 'getfilesystemencodeerrors',\n",
       " 'getfilesystemencoding',\n",
       " 'getprofile',\n",
       " 'getrecursionlimit',\n",
       " 'getrefcount',\n",
       " 'getsizeof',\n",
       " 'getswitchinterval',\n",
       " 'gettrace',\n",
       " 'getunicodeinternedsize',\n",
       " 'hash_info',\n",
       " 'hexversion',\n",
       " 'implementation',\n",
       " 'int_info',\n",
       " 'intern',\n",
       " 'is_finalizing',\n",
       " 'is_stack_trampoline_active',\n",
       " 'last_traceback',\n",
       " 'last_type',\n",
       " 'last_value',\n",
       " 'maxsize',\n",
       " 'maxunicode',\n",
       " 'meta_path',\n",
       " 'modules',\n",
       " 'monitoring',\n",
       " 'orig_argv',\n",
       " 'path',\n",
       " 'path_hooks',\n",
       " 'path_importer_cache',\n",
       " 'platform',\n",
       " 'platlibdir',\n",
       " 'prefix',\n",
       " 'ps1',\n",
       " 'ps2',\n",
       " 'ps3',\n",
       " 'pycache_prefix',\n",
       " 'set_asyncgen_hooks',\n",
       " 'set_coroutine_origin_tracking_depth',\n",
       " 'set_int_max_str_digits',\n",
       " 'setdlopenflags',\n",
       " 'setprofile',\n",
       " 'setrecursionlimit',\n",
       " 'setswitchinterval',\n",
       " 'settrace',\n",
       " 'stderr',\n",
       " 'stdin',\n",
       " 'stdlib_module_names',\n",
       " 'stdout',\n",
       " 'thread_info',\n",
       " 'unraisablehook',\n",
       " 'version',\n",
       " 'version_info',\n",
       " 'warnoptions']"
      ]
     },
     "execution_count": 13,
     "metadata": {},
     "output_type": "execute_result"
    }
   ],
   "source": [
    "dir(sys)"
   ]
  },
  {
   "cell_type": "code",
   "execution_count": 14,
   "id": "8ddc1d7b-7bd2-443c-a08a-caba474fe419",
   "metadata": {},
   "outputs": [
    {
     "name": "stdout",
     "output_type": "stream",
     "text": [
      "2.718, 3.14159\n"
     ]
    }
   ],
   "source": [
    "import math\n",
    "print('{1:.3f}, {0:.5f}'.format(math.pi, math.e))"
   ]
  },
  {
   "cell_type": "code",
   "execution_count": 15,
   "id": "e6f3bf11-94fb-40ad-bb8b-1f21f0ab4839",
   "metadata": {},
   "outputs": [
    {
     "name": "stdin",
     "output_type": "stream",
     "text": [
      "整数a: 5\n",
      "整数b: 0\n"
     ]
    },
    {
     "name": "stdout",
     "output_type": "stream",
     "text": [
      "25\n",
      "D\n",
      "G\n"
     ]
    }
   ],
   "source": [
    "try:\n",
    "    int_a = int(input('整数a:'))\n",
    "    int_b = int(input('整数b:'))\n",
    "    print(int_a ** 2)\n",
    "    print((int_a ** 2) / int_b)\n",
    "except(ValueError) as v:\n",
    "    print(type(v))\n",
    "    print('C')\n",
    "except(ZeroDivisionError) :\n",
    "    print('D')\n",
    "except:\n",
    "    print('E')\n",
    "else:\n",
    "    print('F')\n",
    "finally:\n",
    "    print('G')"
   ]
  },
  {
   "cell_type": "code",
   "execution_count": 16,
   "id": "a333674f-85b5-4cdd-a793-a503361d4db5",
   "metadata": {},
   "outputs": [
    {
     "name": "stdout",
     "output_type": "stream",
     "text": [
      "good morning\n",
      "good morning\n",
      "Hello\n",
      "hello\n"
     ]
    }
   ],
   "source": [
    "with open(\"file.txt\") as f:\n",
    "    for line in f:\n",
    "        print(line, end=\"\")\n"
   ]
  },
  {
   "cell_type": "code",
   "execution_count": 17,
   "id": "44714d47-5e81-4f9d-a61e-af80cc4670cd",
   "metadata": {},
   "outputs": [],
   "source": [
    "f.close()"
   ]
  },
  {
   "cell_type": "code",
   "execution_count": 18,
   "id": "3244fd6c-9a79-4ca6-b36a-a7ba79e8d7a2",
   "metadata": {},
   "outputs": [
    {
     "data": {
      "text/plain": [
       "<_io.TextIOWrapper name='file.txt' mode='r' encoding='UTF-8'>"
      ]
     },
     "execution_count": 18,
     "metadata": {},
     "output_type": "execute_result"
    }
   ],
   "source": [
    "f"
   ]
  },
  {
   "cell_type": "code",
   "execution_count": 20,
   "id": "688eb128-0efe-44df-9bb6-467aaeee9707",
   "metadata": {},
   "outputs": [
    {
     "name": "stdout",
     "output_type": "stream",
     "text": [
      "Saya is a\n",
      "intelligent\n",
      "speedster.\n"
     ]
    }
   ],
   "source": [
    "class OurException(Exception):\n",
    "    pass\n",
    "def raise_her_exception(a):\n",
    "    print(a, 'is a')\n",
    "    raise OurException\n",
    "    print('easygoing person.')\n",
    "def func(key: int):\n",
    "    try:\n",
    "        if key == 0:\n",
    "            raise_her_exception('Saya')\n",
    "    except OurException as e:\n",
    "        print('intelligent')\n",
    "        raise Exception\n",
    "\n",
    "key = 0\n",
    "try:\n",
    "    func(key)\n",
    "except Exception as f:\n",
    "    print('speedster.')\n"
   ]
  },
  {
   "cell_type": "code",
   "execution_count": 21,
   "id": "3a19bd47-6111-4d1e-b88b-684619fb958b",
   "metadata": {},
   "outputs": [
    {
     "name": "stdout",
     "output_type": "stream",
     "text": [
      "I'm Saya.\n",
      "I'm Magatama.\n",
      "I'm David.\n"
     ]
    }
   ],
   "source": [
    "class kusanagi():\n",
    "    def s(self):\n",
    "        print(\"I'm Saya.\")\n",
    "        self.m()\n",
    "    def m(self):\n",
    "        print(\"I'm Magatama.\")\n",
    "\n",
    "class onimaru(kusanagi):\n",
    "    def d(self):\n",
    "        print(\"I'm David.\")\n",
    "\n",
    "k = kusanagi()\n",
    "o = onimaru()\n",
    "k.s()\n",
    "o.d()"
   ]
  },
  {
   "cell_type": "code",
   "execution_count": 22,
   "id": "01ea60be-2c03-4e76-b2a9-b30050790503",
   "metadata": {},
   "outputs": [],
   "source": [
    "import re\n",
    "prog = re.compile('(K|S)us(a|u)n(a|o)(o|m)?g?i?(saya)?', re.IGNORECASE)"
   ]
  },
  {
   "cell_type": "code",
   "execution_count": 23,
   "id": "cf1d8a9b-2035-48e3-8799-47fc0b0aac6b",
   "metadata": {},
   "outputs": [],
   "source": [
    "ret = prog.search('KUSANAGI')"
   ]
  },
  {
   "cell_type": "code",
   "execution_count": 26,
   "id": "c938f619-b232-486f-9c34-f71c75827005",
   "metadata": {},
   "outputs": [
    {
     "ename": "TypeError",
     "evalue": "'NoneType' object is not subscriptable",
     "output_type": "error",
     "traceback": [
      "\u001b[0;31m---------------------------------------------------------------------------\u001b[0m",
      "\u001b[0;31mTypeError\u001b[0m                                 Traceback (most recent call last)",
      "Cell \u001b[0;32mIn[26], line 1\u001b[0m\n\u001b[0;32m----> 1\u001b[0m \u001b[38;5;28mprint\u001b[39m(ret[\u001b[38;5;241m0\u001b[39m])\n",
      "\u001b[0;31mTypeError\u001b[0m: 'NoneType' object is not subscriptable"
     ]
    }
   ],
   "source": [
    "print(ret[0])"
   ]
  },
  {
   "cell_type": "code",
   "execution_count": 25,
   "id": "36ac3c7d-eda5-4489-a96f-98e008b7bdce",
   "metadata": {},
   "outputs": [],
   "source": [
    "ret = prog.search('Kusaneiro')"
   ]
  },
  {
   "cell_type": "code",
   "execution_count": 27,
   "id": "f8eee332-140b-4ba8-a5e3-bf55a1bd21cd",
   "metadata": {},
   "outputs": [
    {
     "name": "stdout",
     "output_type": "stream",
     "text": [
      "19.428571428571427 20 138.95238095238096\n"
     ]
    }
   ],
   "source": [
    "import statistics\n",
    "data = [1,10,15,20,25,30,35]\n",
    "rslt1 = statistics.mean(data)\n",
    "rslt2 = statistics.median(data)\n",
    "rslt3 = statistics.variance(data)\n",
    "print(rslt1, rslt2, rslt3)\n"
   ]
  },
  {
   "cell_type": "code",
   "execution_count": 28,
   "id": "49c877ae-9103-4c03-a7b4-201b94e6fddd",
   "metadata": {},
   "outputs": [],
   "source": [
    "from datetime import date"
   ]
  },
  {
   "cell_type": "code",
   "execution_count": 29,
   "id": "fa355f2d-0e48-4cc8-9e83-c448f5cecf72",
   "metadata": {},
   "outputs": [
    {
     "name": "stdout",
     "output_type": "stream",
     "text": [
      "2024-09-05\n"
     ]
    }
   ],
   "source": [
    "now = date.today()\n",
    "print(now)"
   ]
  },
  {
   "cell_type": "code",
   "execution_count": null,
   "id": "be05a44b-768e-4a02-9ac9-e80447bd520c",
   "metadata": {},
   "outputs": [],
   "source": []
  }
 ],
 "metadata": {
  "kernelspec": {
   "display_name": "Python 3 (ipykernel)",
   "language": "python",
   "name": "python3"
  },
  "language_info": {
   "codemirror_mode": {
    "name": "ipython",
    "version": 3
   },
   "file_extension": ".py",
   "mimetype": "text/x-python",
   "name": "python",
   "nbconvert_exporter": "python",
   "pygments_lexer": "ipython3",
   "version": "3.12.4"
  }
 },
 "nbformat": 4,
 "nbformat_minor": 5
}
