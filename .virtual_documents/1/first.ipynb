import numpy as np
import pandas as pd
import matplotlib.pyplot as plt


x = np.arange(-10, 10, 0.1)


plt.plot(x, np.sin(x))


y = 2* x


plt.plot(x, y)


plt.plot(x, y)



