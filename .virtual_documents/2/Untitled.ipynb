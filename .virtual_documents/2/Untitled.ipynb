


a = 2
b = a ** 3
c = b / 2 + 3
d = 10
e = d // b
f = d % c
print ('{1}, {0}'.format(e, f))





Zen = 'NowIsBetterThanNever'
print('{}{}{}'.format(Zen[4], Zen[-5], Zen[1:3] ))





Zen = 'BeautifulIsBetterThanUgly'


Zen[1000:10000]


Zen[50]





a, b = 0, 1
while a < 10:
    print(a, end=',')
    a, b = b, a+b





months = ['January', 'March', 'May', 'July']
months.append('September')
for month in months[:]:
    if len(month) > 5:
        months.insert(0,month)

print(months, end = '')





for n in range(2, 10):
    for x in range(2 ,n):
        if n % x == 0:
            print(n, 'equals', x, '*', n//x)
            break                    
    else:
        print(n,'is a prime number')





for i in range(-3, -18, -3):
    print(i, end=", ")





Zen = ['Now','is','better','than','never']
for i ,v in enumerate(Zen):
    print(i, v)


for i in range(len(Zen)):
    print(i, Zen[i])





i = 1
i = 2

def f(arg):
    i = 3
    print(arg)

i = 4
i = 5

f(i)





def culc(a, b, squares=[], cubes=[]):
    squares.append(a ** 2)
    cubes.append(b ** 3)
    return squares, cubes

print(culc(2,2))
print(culc(3,3))
print('ans ', culc(4,4))
print(culc(5,5))





def location(city, state='NewYork', country='USA'):
    print("I live in", country, ".")
    print("My company is located in",city,",",state,".")



location(city='chiyoda', state='Tokyo', zipcode='1000004')


location(state='California', country='USA', 'San Francisco') 


location(state='Jakarta', city='Cikini')


location('Geelong', city='Melbourne')





def shop(name,【A】, 【B】):
    print("flowershop:", name)
    keys = sorted(argsX.keys())
    for kw in keys:
        print(kw, ":", argsX[kw])
    for Y in argsY:
        print(Y)

shop("Iris","Open: 9:30 am","Close: 10:30 pm","Monday and holidays are closed.",bouquet="Sunflower",plants="Pachira",dried="Rose")


def shop(name,*argsY, **argsX):
    print("flowershop:", name)
    keys = sorted(argsX.keys())
    for kw in keys:
        print(kw, ":", argsX[kw])
    for Y in argsY:
        print(Y)

shop("Iris","Open: 9:30 am","Close: 10:30 pm","Monday and holidays are closed.",bouquet="Sunflower",plants="Pachira",dried="Rose")





squares = []
for x in range(0, 10, 3):
    squares.append(x ** 2)

print(squares)


squares = [x ** 2 for x in range(0, 10, 3)] 





matrix = [[1, 3, 5], [4, 9, 25], [8, 27, 125]]
power = [[row[i] for row in matrix] for i in range(3)]
print(power)


power = list(zip(*matrix))


power



