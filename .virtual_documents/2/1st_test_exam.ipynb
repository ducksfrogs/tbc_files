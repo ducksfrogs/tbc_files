





# あいさつ文を表示します。　…【A】
x = 'Hello' # Helloを変数に代入します。　…【B】
# Worldを変数に　…【C】
               # 代入します。　…【D】
y = 'World !'
print ('{}!{}!! #あいさつ文はここまでです。'.format(x, y)) 





a = 10
b = a ** 2
c = b % 20 + 5
d = 8
e = d / b
f = d // c
print ('{0}, {1}'.format(e, f))





a = "She said,\"He" + 3 * "y" + "!"
b = "How are you?\" "
print (a, b)





Zen = 'NowIsBetterThanNever'
print('{}{}{}{}'.format(Zen[5], Zen[10], Zen[-7], Zen[-3:-1]))





Zen = 'SimpleIsBetterThanComplex'
Zen[0] = 'J'





a, b = 0, 1
while b < 10:
    print(b, end=',')
    a, b = b, a+b





colors = ['red', 'green', 'blue']
colors.append('yellow')
colors.insert(0,'purple')
for color in colors[2:]:
    print(color, len(color), end = ', ')





for n in range(2, 10):
    for x in range(2 ,n):
        if n % x == 0:
            print(n, 'equals', x, '*', n//x)
            break
    else:    
        print(n,'is a prime number')
        continue
    break



for n in range(2,10):
    print(n)
    for x in range(2,n):
        print('x=',x)





for i in range(-10, -30, -5):
    print(i, end=", ")





Zen = ['Now','is','better','than','never']
for i in range(len(Zen)):
    print(i, Zen[i])


for i, v in enumerate(Zen):
    print(i, v)
    





i = 5
i = 6

def f(arg = i):
    i = 7
    print(arg)

i = 8
i = 9

f()





def culc(a, b=1, squares=[], cubes=[]):
    squares.append(a ** 2)
    cubes.append(b ** 3)
    return squares, cubes

print(culc(1))
print(culc(2, 3))
print('ans', culc(3, 4)) 
print(culc(4, 5))





def location(city, state, country='Japan'):
    print("I live in",country,".")
    print("My company is located in",city,",",state,".")


location(state='Tokyo', city='chiyoda')


location( city='chiyoda', state='Tokyo')


location(state='California', country='USA', 'San Francisco') 


location('Geelong', city='Melbourne')





def shop(name, *arguments, **keywords ):
    print("flowershop:", name)
    for arg in arguments:
        print(arg)
    print("**Recommended**")
    keys = sorted(keywords.keys())
    for kw in keys:
        print(kw, ":", keywords[kw])

shop("Iris","Open: 9:30 am","Close: 10:30 pm","Monday and holidays are closed.",bouquet="Sunflower",plants="Pachira",dried="Rose")






cubes = [x ** 3 for range(5) in x]


cubes = [x in x ** 3 for range(5)]


cubes = [x for x ** 3 in range(5)] 


cubes = [x ** 3 for range(5) in x]


cubes = [x ** 3 for x in range(5)] 


cubes






matrix = [[2, 3, 5], [4, 9, 25], [8, 27, 125]] 
power = [row[2] for row in matrix]
print(power)





from collections import deque
queue = deque(["bear", "cow", "dog", "elephant","fox"])
queue.append("goat")
queue.popleft()
queue.pop()
print(queue)





list = [-10, 1, 15, 20, 30]
list.insert(2,5)
list.append(50)
list.sort(reverse = True)
list.pop(-1)
print(list)





Zen = 'ExplicitIsBetterThanImplicit'
print(Zen[1:20:3])






(1, 2, 3, 4) > (1, 2, 5) 


'PHP' < 'Perl' < 'Python'


(1, 2) > (1, 2, -1)


(10, 20) != (10.0, 20.0) 


(1, 2, ('bb', 'a')) > (1, 2, ('bcd', 'b')) 





import sys


dir(sys)





import math
print('{1:.3f}, {0:.5f}'.format(math.pi, math.e))





try:
    int_a = int(input('整数a:'))
    int_b = int(input('整数b:'))
    print(int_a ** 2)
    print((int_a ** 2) / int_b)
except(ValueError) as v:
    print(type(v))
    print('C')
except(ZeroDivisionError) :
    print('D')
except:
    print('E')
else:
    print('F')
finally:
    print('G')





with open("file.txt") as f:
    for line in f:
        print(line, end="")



f.close()


f





class OurException(Exception):
    pass
def raise_her_exception(a):
    print(a, 'is a')
    raise OurException
    print('easygoing person.')
def func(key: int):
    try:
        if key == 0:
            raise_her_exception('Saya')
    except OurException as e:
        print('intelligent')
        raise Exception

key = 0
try:
    func(key)
except Exception as f:
    print('speedster.')



class kusanagi():
    def s(self):
        print("I'm Saya.")
        self.m()
    def m(self):
        print("I'm Magatama.")

class onimaru(kusanagi):
    def d(self):
        print("I'm David.")

k = kusanagi()
o = onimaru()
k.s()
o.d()


import re
prog = re.compile('(K|S)us(a|u)n(a|o)(o|m)?g?i?(saya)?', re.IGNORECASE)


ret = prog.search('KUSANAGI')


print(ret[0])


ret = prog.search('Kusaneiro')


import statistics
data = [1,10,15,20,25,30,35]
rslt1 = statistics.mean(data)
rslt2 = statistics.median(data)
rslt3 = statistics.variance(data)
print(rslt1, rslt2, rslt3)



from datetime import date


now = date.today()
print(now)



