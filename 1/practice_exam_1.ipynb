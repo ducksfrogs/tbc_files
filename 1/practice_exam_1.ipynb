{
 "cells": [
  {
   "cell_type": "markdown",
   "id": "aa2e73b3-8b54-4085-9a17-566fbc3d9819",
   "metadata": {},
   "source": [
    "# 第1回 Python 3 エンジニア認定基礎 模擬試験"
   ]
  },
  {
   "cell_type": "markdown",
   "id": "8a66a86d-3efa-4c4c-80a1-1cd2e3c7a421",
   "metadata": {},
   "source": [
    "## 3"
   ]
  },
  {
   "cell_type": "code",
   "execution_count": 3,
   "id": "3fa50901-dc65-487c-99d6-7063d0bd4563",
   "metadata": {},
   "outputs": [
    {
     "name": "stdout",
     "output_type": "stream",
     "text": [
      "Hello!World !!! #あいさつ文はここまでです。\n"
     ]
    }
   ],
   "source": [
    "# あいさつ文を表示します。　…【A】\n",
    "x = 'Hello' # Helloを変数に代入します。　…【B】\n",
    "# Worldを変数に　…【C】\n",
    "               # 代入します。　…【D】\n",
    "y = 'World !'\n",
    "print ('{}!{}!! #あいさつ文はここまでです。'.format(x, y)) "
   ]
  },
  {
   "cell_type": "markdown",
   "id": "b07f4e97-c2ab-4b5d-adc9-7ee57ad5c6e6",
   "metadata": {},
   "source": [
    "## 4"
   ]
  },
  {
   "cell_type": "code",
   "execution_count": 5,
   "id": "80d0c01c-cab4-47fb-af38-aa511146bc43",
   "metadata": {},
   "outputs": [
    {
     "name": "stdout",
     "output_type": "stream",
     "text": [
      "0.08, 1\n"
     ]
    }
   ],
   "source": [
    "a = 10\n",
    "b = a ** 2\n",
    "c = b % 20 + 5\n",
    "d = 8\n",
    "e = d / b\n",
    "f = d // c\n",
    "print ('{0}, {1}'.format(e, f))"
   ]
  },
  {
   "cell_type": "markdown",
   "id": "99a455b7-70ed-44bc-80b6-f54a5ceee69b",
   "metadata": {},
   "source": [
    "## 5"
   ]
  },
  {
   "cell_type": "code",
   "execution_count": 6,
   "id": "702de4a3-37c3-40d2-a774-f89c85a33aed",
   "metadata": {},
   "outputs": [
    {
     "name": "stdout",
     "output_type": "stream",
     "text": [
      "She said,\"Heyyy! How are you?\" \n"
     ]
    }
   ],
   "source": [
    "a = \"She said,\\\"He\" + 3 * \"y\" + \"!\"\n",
    "b = \"How are you?\\\" \"\n",
    "print (a, b)"
   ]
  },
  {
   "cell_type": "markdown",
   "id": "5c5cfe61-f6a3-4293-a394-7158018554b2",
   "metadata": {},
   "source": [
    "## 6"
   ]
  },
  {
   "cell_type": "code",
   "execution_count": 8,
   "id": "030bd34e-be62-4355-9d3e-1e255bbbe093",
   "metadata": {},
   "outputs": [
    {
     "name": "stdout",
     "output_type": "stream",
     "text": [
      "Brave\n"
     ]
    }
   ],
   "source": [
    "Zen = 'NowIsBetterThanNever'\n",
    "print('{}{}{}{}'.format(Zen[5], Zen[10], Zen[-7], Zen[-3:-1]))"
   ]
  },
  {
   "cell_type": "markdown",
   "id": "dbdbcae4-c7af-4d84-98e8-649594da3709",
   "metadata": {},
   "source": [
    "## 7"
   ]
  },
  {
   "cell_type": "code",
   "execution_count": 10,
   "id": "12084397-9135-40e7-a33c-ebab23ba9e9e",
   "metadata": {},
   "outputs": [
    {
     "ename": "TypeError",
     "evalue": "'str' object does not support item assignment",
     "output_type": "error",
     "traceback": [
      "\u001b[0;31m---------------------------------------------------------------------------\u001b[0m",
      "\u001b[0;31mTypeError\u001b[0m                                 Traceback (most recent call last)",
      "Cell \u001b[0;32mIn[10], line 2\u001b[0m\n\u001b[1;32m      1\u001b[0m Zen \u001b[38;5;241m=\u001b[39m \u001b[38;5;124m'\u001b[39m\u001b[38;5;124mSimpleIsBetterThanComplex\u001b[39m\u001b[38;5;124m'\u001b[39m\n\u001b[0;32m----> 2\u001b[0m Zen[\u001b[38;5;241m0\u001b[39m] \u001b[38;5;241m=\u001b[39m \u001b[38;5;124m'\u001b[39m\u001b[38;5;124mJ\u001b[39m\u001b[38;5;124m'\u001b[39m\n",
      "\u001b[0;31mTypeError\u001b[0m: 'str' object does not support item assignment"
     ]
    }
   ],
   "source": [
    "Zen = 'SimpleIsBetterThanComplex'\n",
    "Zen[0] = 'J'"
   ]
  },
  {
   "cell_type": "markdown",
   "id": "41e2cf9a-5a4e-4a1a-8402-31aa38554a0e",
   "metadata": {},
   "source": [
    "## 8"
   ]
  },
  {
   "cell_type": "code",
   "execution_count": 11,
   "id": "51bfa403-0a40-4b95-87fe-20052f09eb87",
   "metadata": {},
   "outputs": [
    {
     "name": "stdout",
     "output_type": "stream",
     "text": [
      "1,1,2,3,5,8,"
     ]
    }
   ],
   "source": [
    "a, b = 0, 1\n",
    "while b < 10:\n",
    "    print(b, end=',')\n",
    "    a, b = b, a+b"
   ]
  },
  {
   "cell_type": "markdown",
   "id": "b1a9d595-f4cd-4fff-b471-ade908812c52",
   "metadata": {},
   "source": [
    "## 9"
   ]
  },
  {
   "cell_type": "code",
   "execution_count": 12,
   "id": "c69f551a-a0da-42bd-aeb5-74bf6259301b",
   "metadata": {},
   "outputs": [
    {
     "name": "stdout",
     "output_type": "stream",
     "text": [
      "green 5, blue 4, yellow 6, "
     ]
    }
   ],
   "source": [
    "colors = ['red', 'green', 'blue']\n",
    "colors.append('yellow')\n",
    "colors.insert(0,'purple')\n",
    "for color in colors[2:]:\n",
    "    print(color, len(color), end = ', ')"
   ]
  },
  {
   "cell_type": "markdown",
   "id": "8cb3fc5f-bf3f-44d1-958e-c4a6da7fa856",
   "metadata": {},
   "source": [
    "## 10"
   ]
  },
  {
   "cell_type": "code",
   "execution_count": 25,
   "id": "8d564a0a-a8c4-4c78-b12d-c53710cf9171",
   "metadata": {},
   "outputs": [
    {
     "name": "stdout",
     "output_type": "stream",
     "text": [
      "2 is a prime number\n",
      "3 is a prime number\n",
      "4 equals 2 * 2\n"
     ]
    }
   ],
   "source": [
    "for n in range(2, 10):\n",
    "    for x in range(2 ,n):\n",
    "        if n % x == 0:\n",
    "            print(n, 'equals', x, '*', n//x)\n",
    "            break\n",
    "    else:    \n",
    "        print(n,'is a prime number')\n",
    "        continue\n",
    "    break\n"
   ]
  },
  {
   "cell_type": "code",
   "execution_count": 26,
   "id": "d7c86975-66c6-45fe-bdaa-bce1f6390635",
   "metadata": {},
   "outputs": [
    {
     "name": "stdout",
     "output_type": "stream",
     "text": [
      "2\n",
      "3\n",
      "x= 2\n",
      "4\n",
      "x= 2\n",
      "x= 3\n",
      "5\n",
      "x= 2\n",
      "x= 3\n",
      "x= 4\n",
      "6\n",
      "x= 2\n",
      "x= 3\n",
      "x= 4\n",
      "x= 5\n",
      "7\n",
      "x= 2\n",
      "x= 3\n",
      "x= 4\n",
      "x= 5\n",
      "x= 6\n",
      "8\n",
      "x= 2\n",
      "x= 3\n",
      "x= 4\n",
      "x= 5\n",
      "x= 6\n",
      "x= 7\n",
      "9\n",
      "x= 2\n",
      "x= 3\n",
      "x= 4\n",
      "x= 5\n",
      "x= 6\n",
      "x= 7\n",
      "x= 8\n"
     ]
    }
   ],
   "source": [
    "for n in range(2,10):\n",
    "    print(n)\n",
    "    for x in range(2,n):\n",
    "        print('x=',x)"
   ]
  },
  {
   "cell_type": "markdown",
   "id": "03430f5f-4c87-4dfb-b568-4c545c902cce",
   "metadata": {},
   "source": [
    "## 11"
   ]
  },
  {
   "cell_type": "code",
   "execution_count": 27,
   "id": "ab3f290f-01c7-44b5-a178-8a47482b4ef8",
   "metadata": {},
   "outputs": [
    {
     "name": "stdout",
     "output_type": "stream",
     "text": [
      "-10, -15, -20, -25, "
     ]
    }
   ],
   "source": [
    "for i in range(-10, -30, -5):\n",
    "    print(i, end=\", \")"
   ]
  },
  {
   "cell_type": "markdown",
   "id": "ff7b7a3f-c00a-4d11-8a55-e10ce24348e5",
   "metadata": {},
   "source": [
    "## 12"
   ]
  },
  {
   "cell_type": "code",
   "execution_count": 28,
   "id": "dddc0f20-1837-4244-92d9-77540884db81",
   "metadata": {},
   "outputs": [
    {
     "name": "stdout",
     "output_type": "stream",
     "text": [
      "0 Now\n",
      "1 is\n",
      "2 better\n",
      "3 than\n",
      "4 never\n"
     ]
    }
   ],
   "source": [
    "Zen = ['Now','is','better','than','never']\n",
    "for i in range(len(Zen)):\n",
    "    print(i, Zen[i])"
   ]
  },
  {
   "cell_type": "code",
   "execution_count": 29,
   "id": "ae4b829a-c6bb-41e0-9b69-7aa8570c63c5",
   "metadata": {},
   "outputs": [
    {
     "name": "stdout",
     "output_type": "stream",
     "text": [
      "0 Now\n",
      "1 is\n",
      "2 better\n",
      "3 than\n",
      "4 never\n"
     ]
    }
   ],
   "source": [
    "for i, v in enumerate(Zen):\n",
    "    print(i, v)\n",
    "    "
   ]
  },
  {
   "cell_type": "markdown",
   "id": "7225f431-4fb0-4c91-aaff-ef12fd1ef155",
   "metadata": {},
   "source": [
    "## 13"
   ]
  },
  {
   "cell_type": "code",
   "execution_count": 30,
   "id": "6aa0edc6-7d3a-47b6-bbd3-80da84cad214",
   "metadata": {},
   "outputs": [
    {
     "name": "stdout",
     "output_type": "stream",
     "text": [
      "6\n"
     ]
    }
   ],
   "source": [
    "i = 5\n",
    "i = 6\n",
    "\n",
    "def f(arg = i):\n",
    "    i = 7\n",
    "    print(arg)\n",
    "\n",
    "i = 8\n",
    "i = 9\n",
    "\n",
    "f()"
   ]
  },
  {
   "cell_type": "markdown",
   "id": "765a2331-2708-4825-b0b6-d180bebbeb4f",
   "metadata": {},
   "source": [
    "## 14"
   ]
  },
  {
   "cell_type": "code",
   "execution_count": 32,
   "id": "51f2e50d-7403-4f09-a98f-e5b06a444eb5",
   "metadata": {},
   "outputs": [
    {
     "name": "stdout",
     "output_type": "stream",
     "text": [
      "([1], [1])\n",
      "([1, 4], [1, 27])\n",
      "ans ([1, 4, 9], [1, 27, 64])\n",
      "([1, 4, 9, 16], [1, 27, 64, 125])\n"
     ]
    }
   ],
   "source": [
    "def culc(a, b=1, squares=[], cubes=[]):\n",
    "    squares.append(a ** 2)\n",
    "    cubes.append(b ** 3)\n",
    "    return squares, cubes\n",
    "\n",
    "print(culc(1))\n",
    "print(culc(2, 3))\n",
    "print('ans', culc(3, 4)) \n",
    "print(culc(4, 5))"
   ]
  },
  {
   "cell_type": "markdown",
   "id": "5e5e8408-00df-4fb3-95d3-b29386efc84e",
   "metadata": {},
   "source": [
    "## 15"
   ]
  },
  {
   "cell_type": "code",
   "execution_count": 34,
   "id": "267c0f2b-5dc7-4a87-b5bd-a6b43755a84b",
   "metadata": {},
   "outputs": [],
   "source": [
    "def location(city, state, country='Japan'):\n",
    "    print(\"I live in\",country,\".\")\n",
    "    print(\"My company is located in\",city,\",\",state,\".\")"
   ]
  },
  {
   "cell_type": "code",
   "execution_count": 35,
   "id": "7e37b8e0-fd37-4a35-8eea-8c660d3ed435",
   "metadata": {},
   "outputs": [
    {
     "name": "stdout",
     "output_type": "stream",
     "text": [
      "I live in Japan .\n",
      "My company is located in chiyoda , Tokyo .\n"
     ]
    }
   ],
   "source": [
    "location(state='Tokyo', city='chiyoda')"
   ]
  },
  {
   "cell_type": "code",
   "execution_count": 36,
   "id": "c0b9db9c-616e-404e-a4e4-2bf78edebb17",
   "metadata": {},
   "outputs": [
    {
     "name": "stdout",
     "output_type": "stream",
     "text": [
      "I live in Japan .\n",
      "My company is located in chiyoda , Tokyo .\n"
     ]
    }
   ],
   "source": [
    "location( city='chiyoda', state='Tokyo')"
   ]
  },
  {
   "cell_type": "code",
   "execution_count": 37,
   "id": "2f4b081e-ea1d-4151-b6cf-89cc141d03c8",
   "metadata": {},
   "outputs": [
    {
     "ename": "SyntaxError",
     "evalue": "positional argument follows keyword argument (4022836367.py, line 1)",
     "output_type": "error",
     "traceback": [
      "\u001b[0;36m  Cell \u001b[0;32mIn[37], line 1\u001b[0;36m\u001b[0m\n\u001b[0;31m    location(state='California', country='USA', 'San Francisco')\u001b[0m\n\u001b[0m                                                               ^\u001b[0m\n\u001b[0;31mSyntaxError\u001b[0m\u001b[0;31m:\u001b[0m positional argument follows keyword argument\n"
     ]
    }
   ],
   "source": [
    "location(state='California', country='USA', 'San Francisco') "
   ]
  },
  {
   "cell_type": "code",
   "execution_count": 38,
   "id": "ed11fc86-c829-4517-aaa9-02ecc1addee3",
   "metadata": {},
   "outputs": [
    {
     "ename": "TypeError",
     "evalue": "location() got multiple values for argument 'city'",
     "output_type": "error",
     "traceback": [
      "\u001b[0;31m---------------------------------------------------------------------------\u001b[0m",
      "\u001b[0;31mTypeError\u001b[0m                                 Traceback (most recent call last)",
      "Cell \u001b[0;32mIn[38], line 1\u001b[0m\n\u001b[0;32m----> 1\u001b[0m location(\u001b[38;5;124m'\u001b[39m\u001b[38;5;124mGeelong\u001b[39m\u001b[38;5;124m'\u001b[39m, city\u001b[38;5;241m=\u001b[39m\u001b[38;5;124m'\u001b[39m\u001b[38;5;124mMelbourne\u001b[39m\u001b[38;5;124m'\u001b[39m)\n",
      "\u001b[0;31mTypeError\u001b[0m: location() got multiple values for argument 'city'"
     ]
    }
   ],
   "source": [
    "location('Geelong', city='Melbourne')"
   ]
  },
  {
   "cell_type": "markdown",
   "id": "01ebcf53-7751-4349-8f79-5d91f716f31a",
   "metadata": {},
   "source": [
    "## 16"
   ]
  },
  {
   "cell_type": "code",
   "execution_count": 39,
   "id": "2280eb07-0f0d-4ca5-ba10-54d679f8aa5b",
   "metadata": {},
   "outputs": [
    {
     "name": "stdout",
     "output_type": "stream",
     "text": [
      "flowershop: Iris\n",
      "Open: 9:30 am\n",
      "Close: 10:30 pm\n",
      "Monday and holidays are closed.\n",
      "**Recommended**\n",
      "bouquet : Sunflower\n",
      "dried : Rose\n",
      "plants : Pachira\n"
     ]
    }
   ],
   "source": [
    "def shop(name, *arguments, **keywords ):\n",
    "    print(\"flowershop:\", name)\n",
    "    for arg in arguments:\n",
    "        print(arg)\n",
    "    print(\"**Recommended**\")\n",
    "    keys = sorted(keywords.keys())\n",
    "    for kw in keys:\n",
    "        print(kw, \":\", keywords[kw])\n",
    "\n",
    "shop(\"Iris\",\"Open: 9:30 am\",\"Close: 10:30 pm\",\"Monday and holidays are closed.\",bouquet=\"Sunflower\",plants=\"Pachira\",dried=\"Rose\")\n"
   ]
  },
  {
   "cell_type": "markdown",
   "id": "126c182f-7d5f-46a6-b01f-d3cd07703446",
   "metadata": {},
   "source": [
    "## 18"
   ]
  },
  {
   "cell_type": "code",
   "execution_count": 11,
   "id": "50a49781-c49b-43a0-9445-006e9683a5c3",
   "metadata": {},
   "outputs": [
    {
     "ename": "SyntaxError",
     "evalue": "cannot assign to function call (2268588497.py, line 1)",
     "output_type": "error",
     "traceback": [
      "\u001b[0;36m  Cell \u001b[0;32mIn[11], line 1\u001b[0;36m\u001b[0m\n\u001b[0;31m    cubes = [x ** 3 for range(5) in x]\u001b[0m\n\u001b[0m                        ^\u001b[0m\n\u001b[0;31mSyntaxError\u001b[0m\u001b[0;31m:\u001b[0m cannot assign to function call\n"
     ]
    }
   ],
   "source": [
    "cubes = [x ** 3 for range(5) in x]"
   ]
  },
  {
   "cell_type": "code",
   "execution_count": 12,
   "id": "bc01aae7-f029-49a7-b33b-e55e382f961b",
   "metadata": {},
   "outputs": [
    {
     "ename": "SyntaxError",
     "evalue": "cannot assign to function call (2117276703.py, line 1)",
     "output_type": "error",
     "traceback": [
      "\u001b[0;36m  Cell \u001b[0;32mIn[12], line 1\u001b[0;36m\u001b[0m\n\u001b[0;31m    cubes = [x in x ** 3 for range(5)]\u001b[0m\n\u001b[0m                             ^\u001b[0m\n\u001b[0;31mSyntaxError\u001b[0m\u001b[0;31m:\u001b[0m cannot assign to function call\n"
     ]
    }
   ],
   "source": [
    "cubes = [x in x ** 3 for range(5)]"
   ]
  },
  {
   "cell_type": "code",
   "execution_count": 9,
   "id": "f38477c6-f76f-4d93-9de7-fc7460bae3f2",
   "metadata": {},
   "outputs": [
    {
     "ename": "SyntaxError",
     "evalue": "cannot assign to expression (1887975842.py, line 1)",
     "output_type": "error",
     "traceback": [
      "\u001b[0;36m  Cell \u001b[0;32mIn[9], line 1\u001b[0;36m\u001b[0m\n\u001b[0;31m    cubes = [x for x ** 3 in range(5)]\u001b[0m\n\u001b[0m                   ^\u001b[0m\n\u001b[0;31mSyntaxError\u001b[0m\u001b[0;31m:\u001b[0m cannot assign to expression\n"
     ]
    }
   ],
   "source": [
    "cubes = [x for x ** 3 in range(5)] "
   ]
  },
  {
   "cell_type": "code",
   "execution_count": 10,
   "id": "9b420325-e51c-4a7b-88f2-828f3add3687",
   "metadata": {},
   "outputs": [
    {
     "ename": "SyntaxError",
     "evalue": "cannot assign to function call (2268588497.py, line 1)",
     "output_type": "error",
     "traceback": [
      "\u001b[0;36m  Cell \u001b[0;32mIn[10], line 1\u001b[0;36m\u001b[0m\n\u001b[0;31m    cubes = [x ** 3 for range(5) in x]\u001b[0m\n\u001b[0m                        ^\u001b[0m\n\u001b[0;31mSyntaxError\u001b[0m\u001b[0;31m:\u001b[0m cannot assign to function call\n"
     ]
    }
   ],
   "source": [
    "cubes = [x ** 3 for range(5) in x]"
   ]
  },
  {
   "cell_type": "code",
   "execution_count": 13,
   "id": "86b49b41-b8b4-40c4-8ae5-b87b9cfeb07d",
   "metadata": {},
   "outputs": [],
   "source": [
    "cubes = [x ** 3 for x in range(5)] "
   ]
  },
  {
   "cell_type": "code",
   "execution_count": 14,
   "id": "c146e45d-3748-4bab-96cc-c74e5bcfc03a",
   "metadata": {},
   "outputs": [
    {
     "data": {
      "text/plain": [
       "[0, 1, 8, 27, 64]"
      ]
     },
     "execution_count": 14,
     "metadata": {},
     "output_type": "execute_result"
    }
   ],
   "source": [
    "cubes"
   ]
  },
  {
   "cell_type": "markdown",
   "id": "ac23d64d-d512-4a09-8cd4-06803835c474",
   "metadata": {},
   "source": [
    "## 19"
   ]
  },
  {
   "cell_type": "code",
   "execution_count": 44,
   "id": "647a071a-228e-49fd-a0e2-e4216557b72a",
   "metadata": {},
   "outputs": [
    {
     "name": "stdout",
     "output_type": "stream",
     "text": [
      "[5, 25, 125]\n"
     ]
    }
   ],
   "source": [
    "\n",
    "matrix = [[2, 3, 5], [4, 9, 25], [8, 27, 125]] \n",
    "power = [row[2] for row in matrix]\n",
    "print(power)"
   ]
  },
  {
   "cell_type": "markdown",
   "id": "6d626ef9-8079-4807-9122-104736727a51",
   "metadata": {},
   "source": [
    "## 20"
   ]
  },
  {
   "cell_type": "code",
   "execution_count": 45,
   "id": "37cda391-edcf-4e2e-8527-70832ea97a99",
   "metadata": {},
   "outputs": [
    {
     "name": "stdout",
     "output_type": "stream",
     "text": [
      "deque(['cow', 'dog', 'elephant', 'fox'])\n"
     ]
    }
   ],
   "source": [
    "from collections import deque\n",
    "queue = deque([\"bear\", \"cow\", \"dog\", \"elephant\",\"fox\"])\n",
    "queue.append(\"goat\")\n",
    "queue.popleft()\n",
    "queue.pop()\n",
    "print(queue)"
   ]
  },
  {
   "cell_type": "markdown",
   "id": "654aa899-f80e-4064-a353-ebef4d9b84cd",
   "metadata": {},
   "source": [
    "## 21"
   ]
  },
  {
   "cell_type": "code",
   "execution_count": 46,
   "id": "382ce659-5bb6-4954-8d39-dc8776c71a45",
   "metadata": {},
   "outputs": [
    {
     "name": "stdout",
     "output_type": "stream",
     "text": [
      "[50, 30, 20, 15, 5, 1]\n"
     ]
    }
   ],
   "source": [
    "list = [-10, 1, 15, 20, 30]\n",
    "list.insert(2,5)\n",
    "list.append(50)\n",
    "list.sort(reverse = True)\n",
    "list.pop(-1)\n",
    "print(list)"
   ]
  },
  {
   "cell_type": "markdown",
   "id": "4e4e3be8-3386-4437-b3d0-5693150eb8cf",
   "metadata": {},
   "source": [
    "## 22"
   ]
  },
  {
   "cell_type": "code",
   "execution_count": 4,
   "id": "02a494d4-3f37-4a9e-956d-a890a0a85b86",
   "metadata": {},
   "outputs": [
    {
     "name": "stdout",
     "output_type": "stream",
     "text": [
      "xitBtTn\n"
     ]
    }
   ],
   "source": [
    "Zen = 'ExplicitIsBetterThanImplicit'\n",
    "print(Zen[1:20:3])\n"
   ]
  },
  {
   "cell_type": "markdown",
   "id": "80e04000-2dca-44a0-8617-c5f2043515c9",
   "metadata": {},
   "source": [
    "## 23"
   ]
  },
  {
   "cell_type": "code",
   "execution_count": 5,
   "id": "1f0596e6-fc1d-4a32-985a-56291a3c25ef",
   "metadata": {},
   "outputs": [
    {
     "data": {
      "text/plain": [
       "False"
      ]
     },
     "execution_count": 5,
     "metadata": {},
     "output_type": "execute_result"
    }
   ],
   "source": [
    "(1, 2, 3, 4) > (1, 2, 5) "
   ]
  },
  {
   "cell_type": "code",
   "execution_count": 7,
   "id": "3d635889-9b5d-4ea2-8448-bb9e7ad68bc2",
   "metadata": {},
   "outputs": [
    {
     "data": {
      "text/plain": [
       "True"
      ]
     },
     "execution_count": 7,
     "metadata": {},
     "output_type": "execute_result"
    }
   ],
   "source": [
    "'PHP' < 'Perl' < 'Python'"
   ]
  },
  {
   "cell_type": "code",
   "execution_count": 8,
   "id": "52829ed4-6c28-48f8-8212-29febc639221",
   "metadata": {},
   "outputs": [
    {
     "data": {
      "text/plain": [
       "False"
      ]
     },
     "execution_count": 8,
     "metadata": {},
     "output_type": "execute_result"
    }
   ],
   "source": [
    "(1, 2) > (1, 2, -1)"
   ]
  },
  {
   "cell_type": "code",
   "execution_count": 9,
   "id": "8768a2b5-c3d0-4627-98ef-2d5c3ab18554",
   "metadata": {},
   "outputs": [
    {
     "data": {
      "text/plain": [
       "False"
      ]
     },
     "execution_count": 9,
     "metadata": {},
     "output_type": "execute_result"
    }
   ],
   "source": [
    "(10, 20) != (10.0, 20.0) "
   ]
  },
  {
   "cell_type": "code",
   "execution_count": 10,
   "id": "b2b12b06-8f60-4b84-920c-0fa196985c82",
   "metadata": {},
   "outputs": [
    {
     "data": {
      "text/plain": [
       "False"
      ]
     },
     "execution_count": 10,
     "metadata": {},
     "output_type": "execute_result"
    }
   ],
   "source": [
    "(1, 2, ('bb', 'a')) > (1, 2, ('bcd', 'b')) "
   ]
  },
  {
   "cell_type": "markdown",
   "id": "f27f36ee-d039-42d0-b213-842932502086",
   "metadata": {},
   "source": [
    "## 26"
   ]
  },
  {
   "cell_type": "code",
   "execution_count": 11,
   "id": "d353a684-8155-465a-b214-c497672667b5",
   "metadata": {},
   "outputs": [],
   "source": [
    "import sys"
   ]
  },
  {
   "cell_type": "code",
   "execution_count": 13,
   "id": "4c399cfe-f620-4825-a4fa-5261a0be85b5",
   "metadata": {},
   "outputs": [
    {
     "data": {
      "text/plain": [
       "['__breakpointhook__',\n",
       " '__displayhook__',\n",
       " '__doc__',\n",
       " '__excepthook__',\n",
       " '__interactivehook__',\n",
       " '__loader__',\n",
       " '__name__',\n",
       " '__package__',\n",
       " '__spec__',\n",
       " '__stderr__',\n",
       " '__stdin__',\n",
       " '__stdout__',\n",
       " '__unraisablehook__',\n",
       " '_base_executable',\n",
       " '_clear_type_cache',\n",
       " '_current_exceptions',\n",
       " '_current_frames',\n",
       " '_debugmallocstats',\n",
       " '_framework',\n",
       " '_getframe',\n",
       " '_getframemodulename',\n",
       " '_git',\n",
       " '_home',\n",
       " '_setprofileallthreads',\n",
       " '_settraceallthreads',\n",
       " '_stdlib_dir',\n",
       " '_xoptions',\n",
       " 'abiflags',\n",
       " 'activate_stack_trampoline',\n",
       " 'addaudithook',\n",
       " 'api_version',\n",
       " 'argv',\n",
       " 'audit',\n",
       " 'base_exec_prefix',\n",
       " 'base_prefix',\n",
       " 'breakpointhook',\n",
       " 'builtin_module_names',\n",
       " 'byteorder',\n",
       " 'call_tracing',\n",
       " 'copyright',\n",
       " 'deactivate_stack_trampoline',\n",
       " 'displayhook',\n",
       " 'dont_write_bytecode',\n",
       " 'exc_info',\n",
       " 'excepthook',\n",
       " 'exception',\n",
       " 'exec_prefix',\n",
       " 'executable',\n",
       " 'exit',\n",
       " 'flags',\n",
       " 'float_info',\n",
       " 'float_repr_style',\n",
       " 'get_asyncgen_hooks',\n",
       " 'get_coroutine_origin_tracking_depth',\n",
       " 'get_int_max_str_digits',\n",
       " 'getallocatedblocks',\n",
       " 'getdefaultencoding',\n",
       " 'getdlopenflags',\n",
       " 'getfilesystemencodeerrors',\n",
       " 'getfilesystemencoding',\n",
       " 'getprofile',\n",
       " 'getrecursionlimit',\n",
       " 'getrefcount',\n",
       " 'getsizeof',\n",
       " 'getswitchinterval',\n",
       " 'gettrace',\n",
       " 'getunicodeinternedsize',\n",
       " 'hash_info',\n",
       " 'hexversion',\n",
       " 'implementation',\n",
       " 'int_info',\n",
       " 'intern',\n",
       " 'is_finalizing',\n",
       " 'is_stack_trampoline_active',\n",
       " 'last_traceback',\n",
       " 'last_type',\n",
       " 'last_value',\n",
       " 'maxsize',\n",
       " 'maxunicode',\n",
       " 'meta_path',\n",
       " 'modules',\n",
       " 'monitoring',\n",
       " 'orig_argv',\n",
       " 'path',\n",
       " 'path_hooks',\n",
       " 'path_importer_cache',\n",
       " 'platform',\n",
       " 'platlibdir',\n",
       " 'prefix',\n",
       " 'ps1',\n",
       " 'ps2',\n",
       " 'ps3',\n",
       " 'pycache_prefix',\n",
       " 'set_asyncgen_hooks',\n",
       " 'set_coroutine_origin_tracking_depth',\n",
       " 'set_int_max_str_digits',\n",
       " 'setdlopenflags',\n",
       " 'setprofile',\n",
       " 'setrecursionlimit',\n",
       " 'setswitchinterval',\n",
       " 'settrace',\n",
       " 'stderr',\n",
       " 'stdin',\n",
       " 'stdlib_module_names',\n",
       " 'stdout',\n",
       " 'thread_info',\n",
       " 'unraisablehook',\n",
       " 'version',\n",
       " 'version_info',\n",
       " 'warnoptions']"
      ]
     },
     "execution_count": 13,
     "metadata": {},
     "output_type": "execute_result"
    }
   ],
   "source": [
    "dir(sys)"
   ]
  },
  {
   "cell_type": "markdown",
   "id": "e4925677-414c-46a9-a71a-38b3fe7d2678",
   "metadata": {},
   "source": [
    "## 27"
   ]
  },
  {
   "cell_type": "code",
   "execution_count": 14,
   "id": "8ddc1d7b-7bd2-443c-a08a-caba474fe419",
   "metadata": {},
   "outputs": [
    {
     "name": "stdout",
     "output_type": "stream",
     "text": [
      "2.718, 3.14159\n"
     ]
    }
   ],
   "source": [
    "import math\n",
    "print('{1:.3f}, {0:.5f}'.format(math.pi, math.e))"
   ]
  },
  {
   "cell_type": "markdown",
   "id": "0fe52ddc-32ba-4c26-8271-9b4049fa70c5",
   "metadata": {},
   "source": [
    "## 28"
   ]
  },
  {
   "cell_type": "code",
   "execution_count": 15,
   "id": "e6f3bf11-94fb-40ad-bb8b-1f21f0ab4839",
   "metadata": {},
   "outputs": [
    {
     "name": "stdin",
     "output_type": "stream",
     "text": [
      "整数a: 5\n",
      "整数b: 0\n"
     ]
    },
    {
     "name": "stdout",
     "output_type": "stream",
     "text": [
      "25\n",
      "D\n",
      "G\n"
     ]
    }
   ],
   "source": [
    "try:\n",
    "    int_a = int(input('整数a:'))\n",
    "    int_b = int(input('整数b:'))\n",
    "    print(int_a ** 2)\n",
    "    print((int_a ** 2) / int_b)\n",
    "except(ValueError) as v:\n",
    "    print(type(v))\n",
    "    print('C')\n",
    "except(ZeroDivisionError) :\n",
    "    print('D')\n",
    "except:\n",
    "    print('E')\n",
    "else:\n",
    "    print('F')\n",
    "finally:\n",
    "    print('G')"
   ]
  },
  {
   "cell_type": "markdown",
   "id": "862d1783-a768-4c96-8149-fd4a928681b9",
   "metadata": {},
   "source": [
    "## 29"
   ]
  },
  {
   "cell_type": "code",
   "execution_count": 49,
   "id": "a333674f-85b5-4cdd-a793-a503361d4db5",
   "metadata": {},
   "outputs": [
    {
     "name": "stdout",
     "output_type": "stream",
     "text": [
      "good morning\n",
      "good morning\n",
      "Hello\n",
      "hello\n"
     ]
    }
   ],
   "source": [
    "with open(\"file.txt\") as f:\n",
    "    for line in f:\n",
    "        print(line, end=\"\")\n"
   ]
  },
  {
   "cell_type": "code",
   "execution_count": 50,
   "id": "44714d47-5e81-4f9d-a61e-af80cc4670cd",
   "metadata": {},
   "outputs": [],
   "source": [
    "f.close()"
   ]
  },
  {
   "cell_type": "code",
   "execution_count": 51,
   "id": "3244fd6c-9a79-4ca6-b36a-a7ba79e8d7a2",
   "metadata": {},
   "outputs": [
    {
     "data": {
      "text/plain": [
       "<_io.TextIOWrapper name='file.txt' mode='r' encoding='UTF-8'>"
      ]
     },
     "execution_count": 51,
     "metadata": {},
     "output_type": "execute_result"
    }
   ],
   "source": [
    "f"
   ]
  },
  {
   "cell_type": "markdown",
   "id": "ed73546b-dc8e-4d7e-a2c9-8a523cc880dd",
   "metadata": {},
   "source": [
    "## 31"
   ]
  },
  {
   "cell_type": "code",
   "execution_count": 20,
   "id": "688eb128-0efe-44df-9bb6-467aaeee9707",
   "metadata": {},
   "outputs": [
    {
     "name": "stdout",
     "output_type": "stream",
     "text": [
      "Saya is a\n",
      "intelligent\n",
      "speedster.\n"
     ]
    }
   ],
   "source": [
    "class OurException(Exception):\n",
    "    pass\n",
    "def raise_her_exception(a):\n",
    "    print(a, 'is a')\n",
    "    raise OurException\n",
    "    print('easygoing person.')\n",
    "def func(key: int):\n",
    "    try:\n",
    "        if key == 0:\n",
    "            raise_her_exception('Saya')\n",
    "    except OurException as e:\n",
    "        print('intelligent')\n",
    "        raise Exception\n",
    "\n",
    "key = 0\n",
    "try:\n",
    "    func(key)\n",
    "except Exception as f:\n",
    "    print('speedster.')\n"
   ]
  },
  {
   "cell_type": "markdown",
   "id": "bcbf2ff7-61d6-453c-aafb-5c35c739bafa",
   "metadata": {},
   "source": [
    "## 32"
   ]
  },
  {
   "cell_type": "code",
   "execution_count": 21,
   "id": "3a19bd47-6111-4d1e-b88b-684619fb958b",
   "metadata": {},
   "outputs": [
    {
     "name": "stdout",
     "output_type": "stream",
     "text": [
      "I'm Saya.\n",
      "I'm Magatama.\n",
      "I'm David.\n"
     ]
    }
   ],
   "source": [
    "class kusanagi():\n",
    "    def s(self):\n",
    "        print(\"I'm Saya.\")\n",
    "        self.m()\n",
    "    def m(self):\n",
    "        print(\"I'm Magatama.\")\n",
    "\n",
    "class onimaru(kusanagi):\n",
    "    def d(self):\n",
    "        print(\"I'm David.\")\n",
    "\n",
    "k = kusanagi()\n",
    "o = onimaru()\n",
    "k.s()\n",
    "o.d()"
   ]
  },
  {
   "cell_type": "code",
   "execution_count": 1,
   "id": "17108468-f57f-4383-83e2-77a86299e091",
   "metadata": {},
   "outputs": [],
   "source": [
    "## 35"
   ]
  },
  {
   "cell_type": "code",
   "execution_count": 10,
   "id": "01ea60be-2c03-4e76-b2a9-b30050790503",
   "metadata": {},
   "outputs": [],
   "source": [
    "import re\n",
    "prog = re.compile('(K|S)us(a|u)n(a|o)(o|m)?g?i?(saya)?', re.IGNORECASE)"
   ]
  },
  {
   "cell_type": "code",
   "execution_count": 11,
   "id": "cf1d8a9b-2035-48e3-8799-47fc0b0aac6b",
   "metadata": {},
   "outputs": [],
   "source": [
    "ret = prog.search('KUSANAGI')"
   ]
  },
  {
   "cell_type": "code",
   "execution_count": 5,
   "id": "c938f619-b232-486f-9c34-f71c75827005",
   "metadata": {},
   "outputs": [
    {
     "name": "stdout",
     "output_type": "stream",
     "text": [
      "KUSANAGI\n"
     ]
    }
   ],
   "source": [
    "print(ret[0])"
   ]
  },
  {
   "cell_type": "code",
   "execution_count": 19,
   "id": "36ac3c7d-eda5-4489-a96f-98e008b7bdce",
   "metadata": {},
   "outputs": [],
   "source": [
    "ret = prog.search('Kusaneiro')"
   ]
  },
  {
   "cell_type": "code",
   "execution_count": 20,
   "id": "728a7358-7cb4-4d94-8a8d-391cad6c62a1",
   "metadata": {},
   "outputs": [
    {
     "ename": "TypeError",
     "evalue": "'NoneType' object is not subscriptable",
     "output_type": "error",
     "traceback": [
      "\u001b[0;31m---------------------------------------------------------------------------\u001b[0m",
      "\u001b[0;31mTypeError\u001b[0m                                 Traceback (most recent call last)",
      "Cell \u001b[0;32mIn[20], line 1\u001b[0m\n\u001b[0;32m----> 1\u001b[0m ret[\u001b[38;5;241m0\u001b[39m]\n",
      "\u001b[0;31mTypeError\u001b[0m: 'NoneType' object is not subscriptable"
     ]
    }
   ],
   "source": [
    "ret[0]"
   ]
  },
  {
   "cell_type": "code",
   "execution_count": 21,
   "id": "aaff2a57-46eb-459e-9416-17ba390734a4",
   "metadata": {},
   "outputs": [],
   "source": [
    "ret = prog.search('kusanomi') "
   ]
  },
  {
   "cell_type": "code",
   "execution_count": 22,
   "id": "2848e75e-046d-4e11-8f87-3b00a2f9e34d",
   "metadata": {},
   "outputs": [
    {
     "data": {
      "text/plain": [
       "'kusanomi'"
      ]
     },
     "execution_count": 22,
     "metadata": {},
     "output_type": "execute_result"
    }
   ],
   "source": [
    "ret[0]"
   ]
  },
  {
   "cell_type": "code",
   "execution_count": 23,
   "id": "932fa87b-e45c-4a65-b985-b3d1d77ac751",
   "metadata": {},
   "outputs": [],
   "source": [
    "ret = prog.search('kusunomi') "
   ]
  },
  {
   "cell_type": "code",
   "execution_count": 24,
   "id": "ca4b22cf-9437-4cbc-a9b4-9003931ccfa2",
   "metadata": {},
   "outputs": [
    {
     "data": {
      "text/plain": [
       "'kusunomi'"
      ]
     },
     "execution_count": 24,
     "metadata": {},
     "output_type": "execute_result"
    }
   ],
   "source": [
    "ret[0]"
   ]
  },
  {
   "cell_type": "code",
   "execution_count": 25,
   "id": "24c71e24-180d-4ef9-a034-ef446c4def7a",
   "metadata": {},
   "outputs": [],
   "source": [
    "ret = prog.search('SUSANOO') "
   ]
  },
  {
   "cell_type": "code",
   "execution_count": 26,
   "id": "e882962b-ecf3-440d-b46c-2ca938891fb6",
   "metadata": {},
   "outputs": [
    {
     "data": {
      "text/plain": [
       "'SUSANOO'"
      ]
     },
     "execution_count": 26,
     "metadata": {},
     "output_type": "execute_result"
    }
   ],
   "source": [
    "ret[0]"
   ]
  },
  {
   "cell_type": "markdown",
   "id": "1565deaa-41fb-4e2a-a416-87a24141ffb3",
   "metadata": {},
   "source": [
    "## 36"
   ]
  },
  {
   "cell_type": "code",
   "execution_count": 28,
   "id": "f8eee332-140b-4ba8-a5e3-bf55a1bd21cd",
   "metadata": {},
   "outputs": [
    {
     "name": "stdout",
     "output_type": "stream",
     "text": [
      "19.428571428571427 20 138.95238095238096\n"
     ]
    }
   ],
   "source": [
    "import statistics\n",
    "data = [1,10,15,20,25,30,35]\n",
    "rslt1 = statistics.mean(data)\n",
    "rslt2 = statistics.median(data)\n",
    "rslt3 = statistics.variance(data)\n",
    "print(rslt1, rslt2, rslt3)\n"
   ]
  },
  {
   "cell_type": "code",
   "execution_count": 28,
   "id": "49c877ae-9103-4c03-a7b4-201b94e6fddd",
   "metadata": {},
   "outputs": [],
   "source": [
    "from datetime import date"
   ]
  },
  {
   "cell_type": "code",
   "execution_count": 29,
   "id": "fa355f2d-0e48-4cc8-9e83-c448f5cecf72",
   "metadata": {},
   "outputs": [
    {
     "name": "stdout",
     "output_type": "stream",
     "text": [
      "2024-09-05\n"
     ]
    }
   ],
   "source": [
    "now = date.today()\n",
    "print(now)"
   ]
  },
  {
   "cell_type": "code",
   "execution_count": null,
   "id": "be05a44b-768e-4a02-9ac9-e80447bd520c",
   "metadata": {},
   "outputs": [],
   "source": []
  }
 ],
 "metadata": {
  "kernelspec": {
   "display_name": "Python 3 (ipykernel)",
   "language": "python",
   "name": "python3"
  },
  "language_info": {
   "codemirror_mode": {
    "name": "ipython",
    "version": 3
   },
   "file_extension": ".py",
   "mimetype": "text/x-python",
   "name": "python",
   "nbconvert_exporter": "python",
   "pygments_lexer": "ipython3",
   "version": "3.12.4"
  }
 },
 "nbformat": 4,
 "nbformat_minor": 5
}
