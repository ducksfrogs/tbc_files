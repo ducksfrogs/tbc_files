{
 "cells": [
  {
   "cell_type": "code",
   "execution_count": 1,
   "id": "5075da86-c71e-4a66-a960-5087489ad43b",
   "metadata": {},
   "outputs": [],
   "source": [
    "a = 2"
   ]
  },
  {
   "cell_type": "code",
   "execution_count": 11,
   "id": "2129428d-7e70-429d-ab1b-66b4616cfefb",
   "metadata": {},
   "outputs": [],
   "source": [
    "a_list = []"
   ]
  },
  {
   "cell_type": "code",
   "execution_count": 12,
   "id": "a5baeff2-0b2d-4e64-b65e-4a7ec7da545b",
   "metadata": {},
   "outputs": [],
   "source": [
    "a_tuple = (1, 3, 5, 6)"
   ]
  },
  {
   "cell_type": "code",
   "execution_count": 6,
   "id": "b00f00d2-b45e-47c6-abda-d45513e28517",
   "metadata": {},
   "outputs": [],
   "source": [
    "a ={1,2,3,3,1,2}"
   ]
  },
  {
   "cell_type": "code",
   "execution_count": 7,
   "id": "f48c840a-7363-44df-89b9-1acc701078bb",
   "metadata": {},
   "outputs": [
    {
     "data": {
      "text/plain": [
       "{1, 2, 3}"
      ]
     },
     "execution_count": 7,
     "metadata": {},
     "output_type": "execute_result"
    }
   ],
   "source": [
    "a"
   ]
  },
  {
   "cell_type": "code",
   "execution_count": 8,
   "id": "4ac0e374-2f79-47a8-8a68-62a06fd090b0",
   "metadata": {},
   "outputs": [],
   "source": [
    "ppap = {'apple': 3, 'pen': 4}"
   ]
  },
  {
   "cell_type": "code",
   "execution_count": 10,
   "id": "49ff4f26-6194-48b8-92ed-735121e61e13",
   "metadata": {},
   "outputs": [
    {
     "data": {
      "text/plain": [
       "3"
      ]
     },
     "execution_count": 10,
     "metadata": {},
     "output_type": "execute_result"
    }
   ],
   "source": [
    "ppap['apple']"
   ]
  },
  {
   "cell_type": "code",
   "execution_count": null,
   "id": "88a4adaf-8e00-4b57-a2c2-cd0489f1cc32",
   "metadata": {},
   "outputs": [],
   "source": []
  }
 ],
 "metadata": {
  "kernelspec": {
   "display_name": "Python 3 (ipykernel)",
   "language": "python",
   "name": "python3"
  },
  "language_info": {
   "codemirror_mode": {
    "name": "ipython",
    "version": 3
   },
   "file_extension": ".py",
   "mimetype": "text/x-python",
   "name": "python",
   "nbconvert_exporter": "python",
   "pygments_lexer": "ipython3",
   "version": "3.12.4"
  }
 },
 "nbformat": 4,
 "nbformat_minor": 5
}
