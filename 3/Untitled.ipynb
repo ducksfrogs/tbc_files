{
 "cells": [
  {
   "cell_type": "markdown",
   "id": "6405470d-b95a-48af-8213-2a6e26a03f48",
   "metadata": {},
   "source": [
    "## 4"
   ]
  },
  {
   "cell_type": "code",
   "execution_count": 1,
   "id": "910af726-d912-4b58-b18c-2ac665b68375",
   "metadata": {},
   "outputs": [
    {
     "name": "stdout",
     "output_type": "stream",
     "text": [
      "4 13.0 3.0\n"
     ]
    }
   ],
   "source": [
    "v = 1\n",
    "w = 2\n",
    "v, w = w + 1, v + 3\n",
    "x = w ** 2 + 1\n",
    "y = x - 8 / 2\n",
    "z = y % 5\n",
    "print(w, y, z)"
   ]
  },
  {
   "cell_type": "markdown",
   "id": "867644bc-6c7f-47b5-ba5c-cfd045f49c8b",
   "metadata": {},
   "source": [
    "## 6"
   ]
  },
  {
   "cell_type": "code",
   "execution_count": 6,
   "id": "07289a00-5bc7-4a43-8751-9b931d6c0a94",
   "metadata": {},
   "outputs": [
    {
     "name": "stdout",
     "output_type": "stream",
     "text": [
      "Siex\n"
     ]
    }
   ],
   "source": [
    "Zen = 'SimpleIsBetterThanComplex'\n",
    "print('{}{}{}'.format(Zen[0:2], Zen[-2], Zen[-1] ))"
   ]
  },
  {
   "cell_type": "code",
   "execution_count": 7,
   "id": "281ac486-d6d5-46e5-9756-b323134581e8",
   "metadata": {},
   "outputs": [
    {
     "name": "stdout",
     "output_type": "stream",
     "text": [
      "Simx\n"
     ]
    }
   ],
   "source": [
    "Zen = 'SimpleIsBetterThanComplex'\n",
    "\n",
    "print('{}{}{}'.format(Zen[0:2], Zen[-5], Zen[-1] ))"
   ]
  },
  {
   "cell_type": "code",
   "execution_count": 8,
   "id": "2cf04ebd-1064-4094-9990-b44abf4bea6c",
   "metadata": {},
   "outputs": [
    {
     "name": "stdout",
     "output_type": "stream",
     "text": [
      "Simlx\n"
     ]
    }
   ],
   "source": [
    "Zen = 'SimpleIsBetterThanComplex'\n",
    "\n",
    "print('{}{}{}'.format(Zen[0:3], Zen[-3], Zen[-1:] ))"
   ]
  },
  {
   "cell_type": "markdown",
   "id": "318f69d9-a04e-4265-8002-1d57d293f8f9",
   "metadata": {},
   "source": [
    "## 7"
   ]
  },
  {
   "cell_type": "code",
   "execution_count": 9,
   "id": "6674bb69-01dd-4166-91b8-4b6144ba8a44",
   "metadata": {},
   "outputs": [],
   "source": [
    "Zen = 'NowIsBetterThanNever'"
   ]
  },
  {
   "cell_type": "code",
   "execution_count": 10,
   "id": "48a31da9-f674-499f-9fe5-0fbdc5aefd0f",
   "metadata": {},
   "outputs": [
    {
     "data": {
      "text/plain": [
       "'NowIsBetterThanNeverJ'"
      ]
     },
     "execution_count": 10,
     "metadata": {},
     "output_type": "execute_result"
    }
   ],
   "source": [
    "Zen[:500] + 'J'"
   ]
  },
  {
   "cell_type": "code",
   "execution_count": 11,
   "id": "1a3f9ea0-d0fa-484a-b7a7-a16131f2a499",
   "metadata": {},
   "outputs": [],
   "source": [
    "## 7"
   ]
  },
  {
   "cell_type": "code",
   "execution_count": 12,
   "id": "8d1dbe55-35a0-4166-8fcc-79be4da9db94",
   "metadata": {},
   "outputs": [],
   "source": [
    "Zen = 'NowIsBetterThanNever'"
   ]
  },
  {
   "cell_type": "code",
   "execution_count": null,
   "id": "59af171d-6908-42ad-9e3d-4e69026bb7a8",
   "metadata": {},
   "outputs": [],
   "source": [
    "Zen"
   ]
  }
 ],
 "metadata": {
  "kernelspec": {
   "display_name": "Python 3 (ipykernel)",
   "language": "python",
   "name": "python3"
  },
  "language_info": {
   "codemirror_mode": {
    "name": "ipython",
    "version": 3
   },
   "file_extension": ".py",
   "mimetype": "text/x-python",
   "name": "python",
   "nbconvert_exporter": "python",
   "pygments_lexer": "ipython3",
   "version": "3.12.4"
  }
 },
 "nbformat": 4,
 "nbformat_minor": 5
}
