{
 "cells": [
  {
   "cell_type": "code",
   "execution_count": 1,
   "id": "21831776-6f64-49e3-bd8f-05fd207f949a",
   "metadata": {},
   "outputs": [
    {
     "name": "stdout",
     "output_type": "stream",
     "text": [
      "[50, 30, 20, 15, 5, 1]\n"
     ]
    }
   ],
   "source": [
    "list = [-10, 1, 15, 20, 30]\n",
    "list.insert(2,5)\n",
    "list.append(50)\n",
    "list.sort(reverse = True)\n",
    "list.pop(-1)\n",
    "print(list)"
   ]
  },
  {
   "cell_type": "code",
   "execution_count": 2,
   "id": "d557546a-9e28-4555-8a71-3a3b06dd2ad5",
   "metadata": {},
   "outputs": [
    {
     "data": {
      "text/plain": [
       "[50, 30, 20, 15, 5, 1]"
      ]
     },
     "execution_count": 2,
     "metadata": {},
     "output_type": "execute_result"
    }
   ],
   "source": [
    "list"
   ]
  },
  {
   "cell_type": "code",
   "execution_count": 3,
   "id": "57bfc12c-55b9-4b6d-b92c-714a08683f19",
   "metadata": {},
   "outputs": [
    {
     "data": {
      "text/plain": [
       "1"
      ]
     },
     "execution_count": 3,
     "metadata": {},
     "output_type": "execute_result"
    }
   ],
   "source": [
    "list.pop()"
   ]
  },
  {
   "cell_type": "code",
   "execution_count": 4,
   "id": "d86b6d89-6f98-4741-b9e2-a5c226b2bb36",
   "metadata": {},
   "outputs": [
    {
     "data": {
      "text/plain": [
       "5"
      ]
     },
     "execution_count": 4,
     "metadata": {},
     "output_type": "execute_result"
    }
   ],
   "source": [
    "list.pop(-1)\n"
   ]
  },
  {
   "cell_type": "code",
   "execution_count": 7,
   "id": "3e210e32-8864-49c1-b21c-24ff77b50b88",
   "metadata": {},
   "outputs": [
    {
     "data": {
      "text/plain": [
       "50"
      ]
     },
     "execution_count": 7,
     "metadata": {},
     "output_type": "execute_result"
    }
   ],
   "source": [
    "list.pop(0)"
   ]
  },
  {
   "cell_type": "code",
   "execution_count": 5,
   "id": "916e4e62-8f0d-4861-9d27-7d3a8c27474b",
   "metadata": {},
   "outputs": [
    {
     "name": "stdout",
     "output_type": "stream",
     "text": [
      "Found an even number: 2\n",
      "Found an odd number: 3\n",
      "Found an even number: 4\n",
      "Found an odd number: 5\n",
      "Found an even number: 6\n"
     ]
    }
   ],
   "source": [
    "for num in range(2, 7):\n",
    "    if num % 2 == 1:\n",
    "        print(\"Found an odd number:\", num)\n",
    "        continue\n",
    "    print(\"Found an even number:\", num)"
   ]
  },
  {
   "cell_type": "code",
   "execution_count": 6,
   "id": "dc2e23ef-a64b-4698-8949-afbb448f5340",
   "metadata": {},
   "outputs": [
    {
     "name": "stdout",
     "output_type": "stream",
     "text": [
      "1,-2,-5,-8,"
     ]
    }
   ],
   "source": [
    "for i in range(1,-10,-3):\n",
    "    print(i, end=\",\")"
   ]
  },
  {
   "cell_type": "code",
   "execution_count": 7,
   "id": "efd7505e-1c2f-477e-8958-28ddd1618469",
   "metadata": {},
   "outputs": [
    {
     "name": "stdout",
     "output_type": "stream",
     "text": [
      "0 Simple\n",
      "1 is\n",
      "2 better\n",
      "3 than\n",
      "4 complex\n"
     ]
    }
   ],
   "source": [
    "Zen = ['Simple','is','better','than','complex']\n",
    "for i, v in enumerate(Zen):\n",
    "    print(i, v)"
   ]
  },
  {
   "cell_type": "code",
   "execution_count": 11,
   "id": "cf533192-4c5c-4cbf-b647-553294af8ad7",
   "metadata": {},
   "outputs": [
    {
     "name": "stdout",
     "output_type": "stream",
     "text": [
      "0 Simple\n",
      "1 is\n",
      "2 better\n",
      "3 than\n",
      "4 complex\n"
     ]
    }
   ],
   "source": [
    "for i in range(len(Zen)):\n",
    "    print(i, Zen[i])"
   ]
  },
  {
   "cell_type": "code",
   "execution_count": null,
   "id": "b7b6a0ba-3300-4ffa-bbc6-fe62889899c8",
   "metadata": {},
   "outputs": [],
   "source": []
  }
 ],
 "metadata": {
  "kernelspec": {
   "display_name": "Python 3 (ipykernel)",
   "language": "python",
   "name": "python3"
  },
  "language_info": {
   "codemirror_mode": {
    "name": "ipython",
    "version": 3
   },
   "file_extension": ".py",
   "mimetype": "text/x-python",
   "name": "python",
   "nbconvert_exporter": "python",
   "pygments_lexer": "ipython3",
   "version": "3.12.4"
  }
 },
 "nbformat": 4,
 "nbformat_minor": 5
}
